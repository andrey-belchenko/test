{
 "cells": [
  {
   "cell_type": "code",
   "execution_count": null,
   "metadata": {},
   "outputs": [],
   "source": [
    "from  utils import *\n",
    "endpoint = \"http://192.168.116.131:8181/blazegraph/namespace/kb/sparql\"\n"
   ]
  },
  {
   "cell_type": "code",
   "execution_count": null,
   "metadata": {},
   "outputs": [],
   "source": [
    "classesQuery = \"\"\"\n",
    "PREFIX sch:  <http://www.w3.org/2000/01/rdf-schema#>\n",
    "PREFIX syn:  <http://www.w3.org/1999/02/22-rdf-syntax-ns#>\n",
    "PREFIX owl:  <http://www.w3.org/2002/07/owl#>\n",
    "SELECT * WHERE{\n",
    "   ?profile sch:label \"Example_Вывод из эксплуатации участка линии\".\n",
    "   ?profile syn:type owl:Ontology.\n",
    "   ?class sch:isDefinedBy ?profile.\n",
    "   ?class syn:type \towl:Class.\n",
    "   OPTIONAL{?class sch:subClassOf ?parent}\n",
    "}\n",
    "\"\"\""
   ]
  },
  {
   "cell_type": "code",
   "execution_count": null,
   "metadata": {},
   "outputs": [],
   "source": [
    "fieldsQuery = \"\"\"\n",
    "PREFIX sch:  <http://www.w3.org/2000/01/rdf-schema#>\n",
    "PREFIX syn:  <http://www.w3.org/1999/02/22-rdf-syntax-ns#>\n",
    "PREFIX owl:  <http://www.w3.org/2002/07/owl#>\n",
    "PREFIX ext:  <http://iec.ch/TC57/1999/rdf-schema-extensions-19990926#>\n",
    "SELECT * WHERE{\n",
    "   ?profile sch:label \"Example_Вывод из эксплуатации участка линии\".\n",
    "   ?profile syn:type owl:Ontology.\n",
    "   ?class sch:isDefinedBy ?profile.\n",
    "   ?class syn:type owl:Class.\n",
    "   ?field sch:domain ?class.\n",
    "   ?field syn:type ?type.\n",
    "   OPTIONAL{?field sch:range ?range.}\n",
    "   OPTIONAL{?field ext:multiplicity ?multiplicity.}\n",
    "}\n",
    "\"\"\""
   ]
  },
  {
   "cell_type": "markdown",
   "metadata": {},
   "source": [
    "Выполнение запросов"
   ]
  },
  {
   "cell_type": "code",
   "execution_count": null,
   "metadata": {},
   "outputs": [],
   "source": [
    "classesDF = sparqlDF(endpoint, classesQuery, True)\n",
    "fieldsDF = sparqlDF(endpoint, fieldsQuery, True)\n",
    "classes = dataFrameToObjects(classesDF)\n",
    "fields = dataFrameToObjects(fieldsDF)"
   ]
  },
  {
   "cell_type": "code",
   "execution_count": null,
   "metadata": {},
   "outputs": [],
   "source": [
    "\n",
    "\n",
    "concreteClases = list(filter(lambda c1: not any(\n",
    "    c2[\"parent\"] == c1[\"class\"] for c2 in classes), classes))\n",
    "mainClasses = list(filter(lambda c: not any(\n",
    "    f[\"range\"] == c[\"class\"] and f[\"multiplicity\"][-1] == \"n\" for f in fields), concreteClases))\n",
    "\n",
    "\n",
    "def collectClassFields(leaf, cur):\n",
    "    for field in filter(lambda f: f[\"class\"] == cur[\"class\"], fields):\n",
    "        field[\"refClass\"] = None\n",
    "        if (field[\"type\"] == \"ObjectProperty\" and field[\"multiplicity\"][-1] == \"n\"):\n",
    "            field[\"refClass\"] = next(\n",
    "                (c for c in concreteClases if c[\"class\"] == field[\"range\"]), None)\n",
    "        leaf[\"fields\"].append(field)\n",
    "\n",
    "    if (cur[\"parent\"]):\n",
    "        nxt = next((c for c in classes if c[\"class\"] == cur[\"parent\"]), None)\n",
    "        collectClassFields(leaf, nxt)\n",
    "\n",
    "\n",
    "for c in concreteClases:\n",
    "    c[\"fields\"] = []\n",
    "    collectClassFields(c, c)\n",
    "\n",
    "\n",
    "# def testPrint(c, pref):\n",
    "#     if (pref == \"\"):\n",
    "#         print(c[\"class\"])\n",
    "#     pref += \"---\"\n",
    "#     for f in c[\"fields\"]:\n",
    "#         print(pref, f[\"field\"], \":\", f[\"range\"])\n",
    "#         if (f[\"refClass\"]):\n",
    "#             testPrint(f[\"refClass\"], pref)\n",
    "\n",
    "\n",
    "# for c in mainClasses:\n",
    "#     testPrint(c, \"\")\n"
   ]
  },
  {
   "cell_type": "code",
   "execution_count": null,
   "metadata": {},
   "outputs": [],
   "source": []
  },
  {
   "cell_type": "code",
   "execution_count": 17,
   "metadata": {},
   "outputs": [
    {
     "data": {
      "text/html": [
       "<div>\n",
       "<style scoped>\n",
       "    .dataframe tbody tr th:only-of-type {\n",
       "        vertical-align: middle;\n",
       "    }\n",
       "\n",
       "    .dataframe tbody tr th {\n",
       "        vertical-align: top;\n",
       "    }\n",
       "\n",
       "    .dataframe thead th {\n",
       "        text-align: right;\n",
       "    }\n",
       "</style>\n",
       "<table border=\"1\" class=\"dataframe\">\n",
       "  <thead>\n",
       "    <tr style=\"text-align: right;\">\n",
       "      <th></th>\n",
       "      <th>profile</th>\n",
       "      <th>class</th>\n",
       "      <th>parent</th>\n",
       "    </tr>\n",
       "  </thead>\n",
       "  <tbody>\n",
       "    <tr>\n",
       "      <th>0</th>\n",
       "      <td>Example_ВыводИзЭксплуатацииУчасткаЛинии</td>\n",
       "      <td>IdentifiedObject</td>\n",
       "      <td>None</td>\n",
       "    </tr>\n",
       "    <tr>\n",
       "      <th>1</th>\n",
       "      <td>Example_ВыводИзЭксплуатацииУчасткаЛинии</td>\n",
       "      <td>AccountPartLine</td>\n",
       "      <td>IdentifiedObject</td>\n",
       "    </tr>\n",
       "    <tr>\n",
       "      <th>2</th>\n",
       "      <td>Example_ВыводИзЭксплуатацииУчасткаЛинии</td>\n",
       "      <td>PowerSystemResource</td>\n",
       "      <td>IdentifiedObject</td>\n",
       "    </tr>\n",
       "    <tr>\n",
       "      <th>3</th>\n",
       "      <td>Example_ВыводИзЭксплуатацииУчасткаЛинии</td>\n",
       "      <td>ConnectivityNodeContainer</td>\n",
       "      <td>PowerSystemResource</td>\n",
       "    </tr>\n",
       "    <tr>\n",
       "      <th>4</th>\n",
       "      <td>Example_ВыводИзЭксплуатацииУчасткаЛинии</td>\n",
       "      <td>EquipmentContainer</td>\n",
       "      <td>ConnectivityNodeContainer</td>\n",
       "    </tr>\n",
       "    <tr>\n",
       "      <th>5</th>\n",
       "      <td>Example_ВыводИзЭксплуатацииУчасткаЛинии</td>\n",
       "      <td>Line</td>\n",
       "      <td>EquipmentContainer</td>\n",
       "    </tr>\n",
       "  </tbody>\n",
       "</table>\n",
       "</div>"
      ],
      "text/plain": [
       "                                   profile                      class  \\\n",
       "0  Example_ВыводИзЭксплуатацииУчасткаЛинии           IdentifiedObject   \n",
       "1  Example_ВыводИзЭксплуатацииУчасткаЛинии            AccountPartLine   \n",
       "2  Example_ВыводИзЭксплуатацииУчасткаЛинии        PowerSystemResource   \n",
       "3  Example_ВыводИзЭксплуатацииУчасткаЛинии  ConnectivityNodeContainer   \n",
       "4  Example_ВыводИзЭксплуатацииУчасткаЛинии         EquipmentContainer   \n",
       "5  Example_ВыводИзЭксплуатацииУчасткаЛинии                       Line   \n",
       "\n",
       "                      parent  \n",
       "0                       None  \n",
       "1           IdentifiedObject  \n",
       "2           IdentifiedObject  \n",
       "3        PowerSystemResource  \n",
       "4  ConnectivityNodeContainer  \n",
       "5         EquipmentContainer  "
      ]
     },
     "execution_count": 17,
     "metadata": {},
     "output_type": "execute_result"
    }
   ],
   "source": [
    "classesDF.head(1000)"
   ]
  },
  {
   "cell_type": "code",
   "execution_count": null,
   "metadata": {},
   "outputs": [],
   "source": [
    "fieldsDF.head(1000)"
   ]
  }
 ],
 "metadata": {
  "kernelspec": {
   "display_name": "Python 3.10.4 64-bit",
   "language": "python",
   "name": "python3"
  },
  "language_info": {
   "codemirror_mode": {
    "name": "ipython",
    "version": 3
   },
   "file_extension": ".py",
   "mimetype": "text/x-python",
   "name": "python",
   "nbconvert_exporter": "python",
   "pygments_lexer": "ipython3",
   "version": "3.10.4"
  },
  "orig_nbformat": 4,
  "vscode": {
   "interpreter": {
    "hash": "6847c98a8f86b01c6a19c518cd2f366693b80566b266804d5ca763cbb223f52b"
   }
  }
 },
 "nbformat": 4,
 "nbformat_minor": 2
}
